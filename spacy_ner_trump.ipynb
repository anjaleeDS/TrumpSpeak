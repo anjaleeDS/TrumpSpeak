{
  "nbformat": 4,
  "nbformat_minor": 0,
  "metadata": {
    "colab": {
      "name": "spacy_ner_trump.ipynb",
      "provenance": [],
      "collapsed_sections": [],
      "include_colab_link": true
    },
    "kernelspec": {
      "display_name": "Python 3",
      "name": "python3"
    }
  },
  "cells": [
    {
      "cell_type": "markdown",
      "metadata": {
        "id": "view-in-github",
        "colab_type": "text"
      },
      "source": [
        "<a href=\"https://colab.research.google.com/github/anjaleeDS/TrumpSpeak/blob/main/spacy_ner_trump.ipynb\" target=\"_parent\"><img src=\"https://colab.research.google.com/assets/colab-badge.svg\" alt=\"Open In Colab\"/></a>"
      ]
    },
    {
      "cell_type": "code",
      "metadata": {
        "id": "PsUBXMAXZW4v"
      },
      "source": [
        "# import spacy libs\n",
        "\n",
        "!pip install -U spacy\n",
        "!python -m spacy validate\n",
        "!python -m spacy download en_core_web_lg\n",
        "!python -m spacy download en_core_web_sm\n",
        "\n",
        "# STOP AND RESTART RUNTIME"
      ],
      "execution_count": null,
      "outputs": []
    },
    {
      "cell_type": "code",
      "metadata": {
        "id": "boL-UQKFgRbq",
        "outputId": "45d64d67-ca1f-4d64-fe19-deaeafe017cd",
        "colab": {
          "base_uri": "https://localhost:8080/"
        }
      },
      "source": [
        "# basic Libraries\n",
        "import pandas as pd\n",
        "import os \n",
        "import regex as re\n",
        "import string\n",
        "import seaborn as sns\n",
        "from matplotlib import pyplot as plt\n",
        "import altair as alt\n",
        "\n",
        "# ner Libraries\n",
        "import spacy\n",
        "import nltk\n",
        "from spacy import displacy\n",
        "from sklearn.feature_extraction.text import CountVectorizer\n",
        "from sklearn.metrics import confusion_matrix\n",
        "from sklearn import metrics\n",
        "from sklearn.model_selection import train_test_split\n",
        "from sklearn.linear_model import LogisticRegression\n",
        "from sklearn.naive_bayes import MultinomialNB\n",
        "from sklearn.ensemble import RandomForestClassifier\n",
        "from sklearn.metrics import accuracy_score \n",
        "from sklearn.metrics import classification_report\n",
        "from nltk import word_tokenize, WordNetLemmatizer\n",
        "from nltk.corpus import stopwords\n",
        "from nltk.stem.porter import PorterStemmer\n",
        "\n",
        "nltk.download('stopwords')\n",
        "nltk.download('wordnet')\n",
        "nltk.download('punkt')\n",
        "# print(string.punctuation)\n",
        "\n",
        "# Fun settings to view results\n",
        "pd.set_option('max_rows', 99999)\n",
        "pd.set_option('max_colwidth', 400)\n",
        "# pd.describe_option('max_colwidth', None)"
      ],
      "execution_count": 1,
      "outputs": [
        {
          "output_type": "stream",
          "text": [
            "[nltk_data] Downloading package stopwords to /root/nltk_data...\n",
            "[nltk_data]   Unzipping corpora/stopwords.zip.\n",
            "[nltk_data] Downloading package wordnet to /root/nltk_data...\n",
            "[nltk_data]   Unzipping corpora/wordnet.zip.\n",
            "[nltk_data] Downloading package punkt to /root/nltk_data...\n",
            "[nltk_data]   Unzipping tokenizers/punkt.zip.\n"
          ],
          "name": "stdout"
        }
      ]
    },
    {
      "cell_type": "code",
      "metadata": {
        "id": "iTXASUWymzNV",
        "outputId": "55a7d1f0-0461-4f35-a04d-82b873c4c6a4",
        "colab": {
          "base_uri": "https://localhost:8080/"
        }
      },
      "source": [
        "# Import PyDrive and associated libraries.\n",
        "# This only needs to be done once per notebook.\n",
        "from pydrive.auth import GoogleAuth\n",
        "from pydrive.drive import GoogleDrive\n",
        "from google.colab import auth\n",
        "from oauth2client.client import GoogleCredentials\n",
        "from google.colab import drive\n",
        "\n",
        "drive.mount('/content/drive')\n",
        "%cd drive/My\\ Drive/Colab Notebooks/Sandbox/TrumpSpeeches"
      ],
      "execution_count": 2,
      "outputs": [
        {
          "output_type": "stream",
          "text": [
            "Mounted at /content/drive\n",
            "/content/drive/My Drive/Colab Notebooks/Sandbox/TrumpSpeeches\n"
          ],
          "name": "stdout"
        }
      ]
    },
    {
      "cell_type": "code",
      "metadata": {
        "id": "p2Lj0Mo2RDky",
        "outputId": "4bb4754b-6ddd-4ae2-c2bc-831bd5c5ecab",
        "colab": {
          "base_uri": "https://localhost:8080/"
        }
      },
      "source": [
        "%ls"
      ],
      "execution_count": 3,
      "outputs": [
        {
          "output_type": "stream",
          "text": [
            "BattleCreekDec19_2019.txt       MinneapolisOct10_2019.txt\n",
            "BemidjiSep18_2020.txt           MosineeSep17_2020.txt\n",
            "CharlestonFeb28_2020.txt        NewHampshireAug15_2019.txt\n",
            "CharlotteMar2_2020.txt          NewHampshireAug28_2020.txt\n",
            "CincinnatiAug1_2019.txt         NewHampshireFeb10_2020.txt\n",
            "ColoradorSpringsFeb20_2020.txt  NewMexicoSep16_2019.txt\n",
            "DallasOct17_2019.txt            OhioSep21_2020.txt\n",
            "DesMoinesJan30_2020.txt         PhoenixFeb19_2020.txt\n",
            "FayettevilleSep19_2020.txt      PittsburghSep22_2020.txt\n",
            "FayettevilleSep9_2019.txt       spacy_ner_trump.ipynb\n",
            "FreelandSep10_2020.txt          TexasSep23_2019.txt\n",
            "GreenvilleJul17_2019.txt        ToledoJan9_2020.txt\n",
            "HendersonSep13_2020.txt         trumpspeak.gsheet\n",
            "HersheyDec10_2019.txt           TulsaJun20_2020.txt\n",
            "LasVegasFeb21_2020.txt          TupeloNov1_2019.txt\n",
            "LatrobeSep3_2020.txt            WildwoodJan28_2020.txt\n",
            "LexingtonNov4_2019.txt          Winston-SalemSep8_2020.txt\n",
            "MilwaukeeJan14_2020.txt         YumaAug18_2020.txt\n",
            "MindenSep12_2020.txt\n"
          ],
          "name": "stdout"
        }
      ]
    },
    {
      "cell_type": "markdown",
      "metadata": {
        "id": "ObPYBPVDx63R"
      },
      "source": [
        "# GET DATA FROM FILES\n"
      ]
    },
    {
      "cell_type": "code",
      "metadata": {
        "id": "84JP0G3lRcuh"
      },
      "source": [
        "\n",
        "df = pd.DataFrame(columns=['name','text','nlp','r1', 'r2', 'r3', 'r4']) #throw in a few extra columns just in case\n",
        "full_str=\"\"\n",
        "\n",
        "all_list = os.listdir() # grab the filenames\n",
        "file_list = filter(lambda x: re.match('^[A-Z]',x), all_list) # only select the files that have capital letters\n",
        "df.name = list(file_list)\n",
        "\n",
        "for x in range(df.name.size):\n",
        "  f = open(df.name[x], \"rb\")\n",
        "  text_read = f.read().decode(errors='replace')\n",
        "  text = str(text_read.lower())\n",
        "  df.text[x] = text\n",
        "  full_str += text\n",
        "  f.close()"
      ],
      "execution_count": 4,
      "outputs": []
    },
    {
      "cell_type": "markdown",
      "metadata": {
        "id": "ljALYq-BRdN8"
      },
      "source": [
        "## First work with the combined speaches for common topics"
      ]
    },
    {
      "cell_type": "code",
      "metadata": {
        "id": "4HmPXEmFJ5Cj"
      },
      "source": [
        "# len(full_str), len(full_string), len(full_text)\n",
        "# full_str.find('carolina') # found in position 8298\n",
        "stopwordSet = set(stopwords.words(\"english\"))\n",
        "\n",
        "full_s = re.sub('[^a-zA-Z]',\" \", full_str)\n",
        "token_string = word_tokenize(full_s, language=\"english\")\n",
        "\n",
        "ft=\"\"\n",
        "for word in token_string:\n",
        "  if(word) not in stopwordSet:\n",
        "    ft += word + \" \""
      ],
      "execution_count": 5,
      "outputs": []
    },
    {
      "cell_type": "code",
      "metadata": {
        "id": "4n7ONHKGU8VR",
        "outputId": "45836490-1277-4305-d4dd-b2c62829e157",
        "colab": {
          "base_uri": "https://localhost:8080/"
        }
      },
      "source": [
        "len(ft)"
      ],
      "execution_count": 9,
      "outputs": [
        {
          "output_type": "execute_result",
          "data": {
            "text/plain": [
              "1134428"
            ]
          },
          "metadata": {
            "tags": []
          },
          "execution_count": 9
        }
      ]
    },
    {
      "cell_type": "markdown",
      "metadata": {
        "id": "LNfE8Z8aVlec"
      },
      "source": [
        "## NER the entire text body for all locations\n",
        "\n"
      ]
    },
    {
      "cell_type": "code",
      "metadata": {
        "id": "nA4Wf8OxKxfc"
      },
      "source": [
        "nlp_l = spacy.load('en_core_web_lg')\n",
        "nlp_l.max_length = 1500000 #or whatever value > 1000000, as long as you don't run out of RAM\n",
        "\n",
        "doc = nlp_l(ft)"
      ],
      "execution_count": 10,
      "outputs": []
    },
    {
      "cell_type": "code",
      "metadata": {
        "id": "KMk1aao0LUkz"
      },
      "source": [
        "list_text = []\n",
        "list_ent = []\n",
        "\n",
        "for ent in doc.ents:\n",
        "    # print(ent.text, ent.start_char, ent.end_char, ent.label_)\n",
        "    list_text.append(ent.text)\n",
        "    list_ent.append(ent.label_)\n",
        "\n",
        "\n",
        "entities = pd.DataFrame(columns=['text', 'ent'])\n",
        "entities['text'] = list_text\n",
        "entities['ent'] = list_ent"
      ],
      "execution_count": 12,
      "outputs": []
    },
    {
      "cell_type": "code",
      "metadata": {
        "id": "C9QH-nKfqA9K",
        "outputId": "2e5c301e-302a-4293-ebe0-eeced8ac8f16",
        "colab": {
          "base_uri": "https://localhost:8080/"
        }
      },
      "source": [
        "# vc_entities = pd.DataFrame(data=entities.value_counts(), columns=['text','ent','count'])\n",
        "\n",
        "entities.ent.value_counts()\n",
        "# len(entities.text)\n",
        "# entities[entities.ent =='GPE'].value_counts()"
      ],
      "execution_count": 51,
      "outputs": [
        {
          "output_type": "execute_result",
          "data": {
            "text/plain": [
              "GPE            4483\n",
              "PERSON         3935\n",
              "CARDINAL       2291\n",
              "DATE           2216\n",
              "NORP           2044\n",
              "ORG            1357\n",
              "ORDINAL         514\n",
              "TIME            410\n",
              "MONEY           220\n",
              "LOC             188\n",
              "QUANTITY         65\n",
              "WORK_OF_ART      45\n",
              "FAC              42\n",
              "EVENT            35\n",
              "PRODUCT          12\n",
              "PERCENT           6\n",
              "LAW               3\n",
              "LANGUAGE          1\n",
              "Name: ent, dtype: int64"
            ]
          },
          "metadata": {
            "tags": []
          },
          "execution_count": 51
        }
      ]
    },
    {
      "cell_type": "code",
      "metadata": {
        "id": "xoQ-E-6tZ8rf",
        "outputId": "40d5fc43-22d3-4e15-9419-968676ba9912",
        "colab": {
          "base_uri": "https://localhost:8080/",
          "height": 286
        }
      },
      "source": [
        "import seaborn as sns\n",
        "\n",
        "entities[entities.ent =='GPE'].value_counts().head(20).sort_values().plot(kind = 'barh')\n",
        "# entities.text.value_counts().head(15)"
      ],
      "execution_count": 60,
      "outputs": [
        {
          "output_type": "execute_result",
          "data": {
            "text/plain": [
              "<matplotlib.axes._subplots.AxesSubplot at 0x7f1d96bf8a90>"
            ]
          },
          "metadata": {
            "tags": []
          },
          "execution_count": 60
        },
        {
          "output_type": "display_data",
          "data": {
            "image/png": "[encoded data removed]",
            "text/plain": [
              "<Figure size 432x288 with 1 Axes>"
            ]
          },
          "metadata": {
            "tags": []
          }
        }
      ]
    },
    {
      "cell_type": "markdown",
      "metadata": {
        "id": "1Ph5DQM5xz5q"
      },
      "source": [
        "## break up by location and compare"
      ]
    },
    {
      "cell_type": "code",
      "metadata": {
        "id": "8WaAkpfuio-4"
      },
      "source": [
        "# GET DATA FROM FILES\n",
        "\n",
        "df = pd.DataFrame(columns=['name','text','nlp','r1', 'r2', 'r3', 'r4']) #throw in a few extra columns just in case\n",
        "\n",
        "all_list = os.listdir() # grab the filenames\n",
        "file_list = filter(lambda x: re.match('^[A-Z]',x), all_list) # only select the files that have capital letters\n",
        "df.name = list(file_list)\n",
        "full_string = \"\"\n",
        "\n",
        "for x in range(df.name.size):\n",
        "  f = open(df.name[x], \"rb\")\n",
        "  text_read = f.read().decode(errors='replace')\n",
        "  text = str(text_read.lower())\n",
        "  df.text[x] = text\n",
        "  full_string += text\n",
        "  f.close()"
      ],
      "execution_count": null,
      "outputs": []
    },
    {
      "cell_type": "code",
      "metadata": {
        "id": "7vhKtCullA51"
      },
      "source": [
        "# CLEAN UP TEXT WITH LEMMATIZATION\n",
        "# 1. get english stopwords from nltk.corpus\n",
        "# 2. instantiate lemmatizer\n",
        "\n",
        "stopwordSet = set(stopwords.words(\"english\"))\n",
        "lemma = WordNetLemmatizer()\n",
        "nlp_s = spacy.load('en_core_web_sm')\n",
        "nlp_l = spacy.load('en_core_web_lg')\n",
        "text_reviews = list()\n",
        "\n",
        "for x in range(len(df.text)):\n",
        "  text = re.sub('[^a-zA-Z]',\" \", df.text[x])\n",
        "  text = word_tokenize(text, language=\"english\")\n",
        "  text = [lemma.lemmatize(word) for word in text if(word) not in stopwordSet]\n",
        "  text = \" \".join(text)\n",
        "  text_reviews.append(text)\n",
        "  df.nlp[x] = text\n",
        "  df.r1[x] = nlp_s(text)\n",
        "  df.r2[x] = nlp_l(text)\n",
        "\n",
        "# text_reviews"
      ],
      "execution_count": null,
      "outputs": []
    },
    {
      "cell_type": "code",
      "metadata": {
        "id": "pwuqZhNY2ZLq"
      },
      "source": [
        "df.head()"
      ],
      "execution_count": null,
      "outputs": []
    },
    {
      "cell_type": "code",
      "metadata": {
        "id": "evY_FDDEOdUW"
      },
      "source": [
        "# displacy.render(df.r1[0], style='ent', jupyter=True)\n",
        "for s in range(len(df.r1)):\n",
        "  matrix_s = list()\n",
        "\n",
        "  for ent in df.r1[s].ents:\n",
        "    matrix_s.append([ent.text,ent.label_])\n",
        "  \n",
        "  df.r3[s] = matrix_s\n",
        "\n",
        "for s in range(len(df.r2)):\n",
        "  matrix_l = list()\n",
        "\n",
        "  for ent in df.r2[s].ents:\n",
        "    matrix_l.append([ent.text,ent.label_])\n",
        "  \n",
        "  df.r4[s] = matrix_l\n"
      ],
      "execution_count": null,
      "outputs": []
    },
    {
      "cell_type": "code",
      "metadata": {
        "id": "P9duhOYYptc5"
      },
      "source": [
        "df.r3"
      ],
      "execution_count": null,
      "outputs": []
    },
    {
      "cell_type": "code",
      "metadata": {
        "id": "vR2-s7ul4FY6"
      },
      "source": [
        "list_ent = []\n",
        "for speech in range(len(df.r1)):\n",
        "  doc = df.r1[speech]\n",
        "  # print(doc)\n",
        "  for ent in range(len(doc.ents)):\n",
        "  #   print(doc[ent].text, doc[ent].label_)\n",
        "  #   list_text.append(ent.text)\n",
        "  #   list_ent.append(ent.label_)\n"
      ],
      "execution_count": null,
      "outputs": []
    },
    {
      "cell_type": "code",
      "metadata": {
        "id": "ZT64V0eN0Fi6"
      },
      "source": [
        "for x in range(len(df.text)):\n",
        "  for e in range(len(df.r2[x].ents)):\n",
        "    print()"
      ],
      "execution_count": null,
      "outputs": []
    },
    {
      "cell_type": "code",
      "metadata": {
        "id": "iPbVZ0yldGlg"
      },
      "source": [
        "# USE SPACY FOR NLP AND SAVE ENTITIES INTO SEPARATE DF\n",
        "\n",
        "df.text[x] = text\n",
        "nlp_s = spacy.load('en_core_web_sm')\n",
        "df.nlp[x] = nlp(text)\n",
        "\n",
        "nlp_l = spacy.load('en_core_web_lg')\n",
        "doc = nlp(text)\n",
        "# displacy.render(doc, style='ent', jupyter=True)\n"
      ],
      "execution_count": null,
      "outputs": []
    },
    {
      "cell_type": "code",
      "metadata": {
        "id": "LG9gmwobfchY"
      },
      "source": [
        "# for token in doc:\n",
        "#     print(token.text, token.lemma_, token.pos_, token.tag_, token.dep_,\n",
        "#             token.shape_, token.is_alpha, token.is_stop)\n",
        "\n",
        "for chunk in doc.noun_chunks:\n",
        "    print(chunk.text, chunk.root.text, chunk.root.dep_,\n",
        "            chunk.root.head.text)"
      ],
      "execution_count": null,
      "outputs": []
    },
    {
      "cell_type": "code",
      "metadata": {
        "id": "MqxJGlURNcRY",
        "outputId": "21c3002c-c1b6-484c-961a-76eeda7ee4ba",
        "colab": {
          "base_uri": "https://localhost:8080/",
          "height": 228
        }
      },
      "source": [
        "list_text = []\n",
        "list_ent = []\n",
        "\n",
        "for ent in doc.ents:\n",
        "    print(ent.text, ent.start_char, ent.end_char, ent.label_)\n",
        "    list_text.append(ent.text)\n",
        "    list_ent.append(ent.label_)\n"
      ],
      "execution_count": null,
      "outputs": [
        {
          "output_type": "error",
          "ename": "NameError",
          "evalue": "ignored",
          "traceback": [
            "\u001b[0;31m---------------------------------------------------------------------------\u001b[0m",
            "\u001b[0;31mNameError\u001b[0m                                 Traceback (most recent call last)",
            "\u001b[0;32m<ipython-input-2-2eaea36a123c>\u001b[0m in \u001b[0;36m<module>\u001b[0;34m()\u001b[0m\n\u001b[1;32m      2\u001b[0m \u001b[0mlist_ent\u001b[0m \u001b[0;34m=\u001b[0m \u001b[0;34m[\u001b[0m\u001b[0;34m]\u001b[0m\u001b[0;34m\u001b[0m\u001b[0;34m\u001b[0m\u001b[0m\n\u001b[1;32m      3\u001b[0m \u001b[0;34m\u001b[0m\u001b[0m\n\u001b[0;32m----> 4\u001b[0;31m \u001b[0;32mfor\u001b[0m \u001b[0ment\u001b[0m \u001b[0;32min\u001b[0m \u001b[0mdoc\u001b[0m\u001b[0;34m.\u001b[0m\u001b[0ments\u001b[0m\u001b[0;34m:\u001b[0m\u001b[0;34m\u001b[0m\u001b[0;34m\u001b[0m\u001b[0m\n\u001b[0m\u001b[1;32m      5\u001b[0m     \u001b[0mprint\u001b[0m\u001b[0;34m(\u001b[0m\u001b[0ment\u001b[0m\u001b[0;34m.\u001b[0m\u001b[0mtext\u001b[0m\u001b[0;34m,\u001b[0m \u001b[0ment\u001b[0m\u001b[0;34m.\u001b[0m\u001b[0mstart_char\u001b[0m\u001b[0;34m,\u001b[0m \u001b[0ment\u001b[0m\u001b[0;34m.\u001b[0m\u001b[0mend_char\u001b[0m\u001b[0;34m,\u001b[0m \u001b[0ment\u001b[0m\u001b[0;34m.\u001b[0m\u001b[0mlabel_\u001b[0m\u001b[0;34m)\u001b[0m\u001b[0;34m\u001b[0m\u001b[0;34m\u001b[0m\u001b[0m\n\u001b[1;32m      6\u001b[0m     \u001b[0mlist_text\u001b[0m\u001b[0;34m.\u001b[0m\u001b[0mappend\u001b[0m\u001b[0;34m(\u001b[0m\u001b[0ment\u001b[0m\u001b[0;34m.\u001b[0m\u001b[0mtext\u001b[0m\u001b[0;34m)\u001b[0m\u001b[0;34m\u001b[0m\u001b[0;34m\u001b[0m\u001b[0m\n",
            "\u001b[0;31mNameError\u001b[0m: name 'doc' is not defined"
          ]
        }
      ]
    },
    {
      "cell_type": "code",
      "metadata": {
        "id": "rrKmes2nAugP",
        "outputId": "860df8c0-69ce-4572-9e5a-ed63575be763",
        "colab": {
          "base_uri": "https://localhost:8080/",
          "height": 407
        }
      },
      "source": [
        "text_df = pd.DataFrame(list_text, columns=['text'])\n",
        "text_df['ent'] = list_ent\n",
        "text_df['cat'] = text_df.text+text_df.ent\n",
        "\n",
        "text_df"
      ],
      "execution_count": null,
      "outputs": [
        {
          "output_type": "execute_result",
          "data": {
            "text/html": [
              "<div>\n",
              "<style scoped>\n",
              "    .dataframe tbody tr th:only-of-type {\n",
              "        vertical-align: middle;\n",
              "    }\n",
              "\n",
              "    .dataframe tbody tr th {\n",
              "        vertical-align: top;\n",
              "    }\n",
              "\n",
              "    .dataframe thead th {\n",
              "        text-align: right;\n",
              "    }\n",
              "</style>\n",
              "<table border=\"1\" class=\"dataframe\">\n",
              "  <thead>\n",
              "    <tr style=\"text-align: right;\">\n",
              "      <th></th>\n",
              "      <th>text</th>\n",
              "      <th>ent</th>\n",
              "      <th>cat</th>\n",
              "    </tr>\n",
              "  </thead>\n",
              "  <tbody>\n",
              "    <tr>\n",
              "      <th>0</th>\n",
              "      <td>Bayes</td>\n",
              "      <td>ORG</td>\n",
              "      <td>BayesORG</td>\n",
              "    </tr>\n",
              "    <tr>\n",
              "      <th>1</th>\n",
              "      <td>the 1740s</td>\n",
              "      <td>DATE</td>\n",
              "      <td>the 1740sDATE</td>\n",
              "    </tr>\n",
              "    <tr>\n",
              "      <th>2</th>\n",
              "      <td>Thomas Bayes</td>\n",
              "      <td>PERSON</td>\n",
              "      <td>Thomas BayesPERSON</td>\n",
              "    </tr>\n",
              "    <tr>\n",
              "      <th>3</th>\n",
              "      <td>Bayes</td>\n",
              "      <td>ORG</td>\n",
              "      <td>BayesORG</td>\n",
              "    </tr>\n",
              "    <tr>\n",
              "      <th>4</th>\n",
              "      <td>the twentieth century</td>\n",
              "      <td>DATE</td>\n",
              "      <td>the twentieth centuryDATE</td>\n",
              "    </tr>\n",
              "    <tr>\n",
              "      <th>...</th>\n",
              "      <td>...</td>\n",
              "      <td>...</td>\n",
              "      <td>...</td>\n",
              "    </tr>\n",
              "    <tr>\n",
              "      <th>452</th>\n",
              "      <td>Bayesians</td>\n",
              "      <td>ORG</td>\n",
              "      <td>BayesiansORG</td>\n",
              "    </tr>\n",
              "    <tr>\n",
              "      <th>453</th>\n",
              "      <td>BUGS</td>\n",
              "      <td>ORG</td>\n",
              "      <td>BUGSORG</td>\n",
              "    </tr>\n",
              "    <tr>\n",
              "      <th>454</th>\n",
              "      <td>Bayesian</td>\n",
              "      <td>PERSON</td>\n",
              "      <td>BayesianPERSON</td>\n",
              "    </tr>\n",
              "    <tr>\n",
              "      <th>455</th>\n",
              "      <td>Bayes'</td>\n",
              "      <td>ORG</td>\n",
              "      <td>Bayes'ORG</td>\n",
              "    </tr>\n",
              "    <tr>\n",
              "      <th>456</th>\n",
              "      <td>Bayes'</td>\n",
              "      <td>ORG</td>\n",
              "      <td>Bayes'ORG</td>\n",
              "    </tr>\n",
              "  </tbody>\n",
              "</table>\n",
              "<p>457 rows × 3 columns</p>\n",
              "</div>"
            ],
            "text/plain": [
              "                      text     ent                        cat\n",
              "0                    Bayes     ORG                   BayesORG\n",
              "1                the 1740s    DATE              the 1740sDATE\n",
              "2             Thomas Bayes  PERSON         Thomas BayesPERSON\n",
              "3                    Bayes     ORG                   BayesORG\n",
              "4    the twentieth century    DATE  the twentieth centuryDATE\n",
              "..                     ...     ...                        ...\n",
              "452              Bayesians     ORG               BayesiansORG\n",
              "453                   BUGS     ORG                    BUGSORG\n",
              "454               Bayesian  PERSON             BayesianPERSON\n",
              "455                 Bayes'     ORG                  Bayes'ORG\n",
              "456                 Bayes'     ORG                  Bayes'ORG\n",
              "\n",
              "[457 rows x 3 columns]"
            ]
          },
          "metadata": {
            "tags": []
          },
          "execution_count": 7
        }
      ]
    },
    {
      "cell_type": "code",
      "metadata": {
        "id": "LlZbkBerfCPR",
        "outputId": "1ad86b96-83db-46fc-c364-8a1417420b00",
        "colab": {
          "base_uri": "https://localhost:8080/",
          "height": 90
        }
      },
      "source": [
        "!pip install squarify"
      ],
      "execution_count": null,
      "outputs": [
        {
          "output_type": "stream",
          "text": [
            "Collecting squarify\n",
            "  Downloading https://files.pythonhosted.org/packages/0b/2b/2e77c35326efec19819cd1d729540d4d235e6c2a3f37658288a363a67da5/squarify-0.4.3-py3-none-any.whl\n",
            "Installing collected packages: squarify\n",
            "Successfully installed squarify-0.4.3\n"
          ],
          "name": "stdout"
        }
      ]
    },
    {
      "cell_type": "code",
      "metadata": {
        "id": "qKn2tCybAyQF",
        "outputId": "6aa58939-bdde-4a65-e676-df4da9ab6c88",
        "colab": {
          "base_uri": "https://localhost:8080/",
          "height": 297
        }
      },
      "source": [
        "#interested in the top N entities involved\n",
        "def top_ents(entity, data_df, num):\n",
        "  type_df = data_df[data_df.ent==entity]\n",
        "  return(type_df.text.value_counts().head(num))\n",
        "\n",
        "#what are the entities available?\n",
        "devilpie = text_df.ent.value_counts()\n",
        "devilpie = devilpie.to_frame(name='count').reset_index()\n",
        "\n",
        "#let's just take the top 20\n",
        "lilpie = devilpie[0:20]\n",
        "\n",
        "#libraries\n",
        "import matplotlib.pyplot as plt\n",
        "import seaborn as sns\n",
        "\n",
        "sns.set_palette(\"Reds\")\n",
        "\n",
        "ax = sns.barplot(data = lilpie, y='index', x='count',palette=\"colorblind\")\n",
        "# ax.set(xlabel=\"Entity Type\")\n",
        "\n",
        "plt.plot()"
      ],
      "execution_count": null,
      "outputs": [
        {
          "output_type": "execute_result",
          "data": {
            "text/plain": [
              "[]"
            ]
          },
          "metadata": {
            "tags": []
          },
          "execution_count": 9
        },
        {
          "output_type": "display_data",
          "data": {
            "image/png": "[encoded data removed]",
            "text/plain": [
              "<Figure size 432x288 with 1 Axes>"
            ]
          },
          "metadata": {
            "tags": []
          }
        }
      ]
    },
    {
      "cell_type": "code",
      "metadata": {
        "id": "MkuA1ft-a7hd",
        "outputId": "b198fb04-d491-4976-abfa-7ebb54a33dda",
        "colab": {
          "base_uri": "https://localhost:8080/",
          "height": 963
        }
      },
      "source": [
        "#use the custom function and graph it!\n",
        "temp = top_ents('ORG', text_df, 10)\n",
        "\n",
        "#make into df for graphing\n",
        "temp_df = temp.to_frame(name='count').reset_index()\n",
        "\n",
        "bars = alt.Chart(temp_df).mark_bar().encode(\n",
        "    x='count:Q',\n",
        "    y=alt.Y('index:N', sort='x'),\n",
        "    tooltip=('index:N', 'count:Q')\n",
        ").interactive()\n",
        "\n",
        "bars.properties(height=900)"
      ],
      "execution_count": null,
      "outputs": [
        {
          "output_type": "execute_result",
          "data": {
            "text/html": [
              "\n",
              "<div id=\"altair-viz-cce35d25ea004ca2a846e1b2c1c3a0ce\"></div>\n",
              "<script type=\"text/javascript\">\n",
              "  (function(spec, embedOpt){\n",
              "    let outputDiv = document.currentScript.previousElementSibling;\n",
              "    if (outputDiv.id !== \"altair-viz-cce35d25ea004ca2a846e1b2c1c3a0ce\") {\n",
              "      outputDiv = document.getElementById(\"altair-viz-cce35d25ea004ca2a846e1b2c1c3a0ce\");\n",
              "    }\n",
              "    const paths = {\n",
              "      \"vega\": \"https://cdn.jsdelivr.net/npm//vega@5?noext\",\n",
              "      \"vega-lib\": \"https://cdn.jsdelivr.net/npm//vega-lib?noext\",\n",
              "      \"vega-lite\": \"https://cdn.jsdelivr.net/npm//vega-lite@4.8.1?noext\",\n",
              "      \"vega-embed\": \"https://cdn.jsdelivr.net/npm//vega-embed@6?noext\",\n",
              "    };\n",
              "\n",
              "    function loadScript(lib) {\n",
              "      return new Promise(function(resolve, reject) {\n",
              "        var s = document.createElement('script');\n",
              "        s.src = paths[lib];\n",
              "        s.async = true;\n",
              "        s.onload = () => resolve(paths[lib]);\n",
              "        s.onerror = () => reject(`Error loading script: ${paths[lib]}`);\n",
              "        document.getElementsByTagName(\"head\")[0].appendChild(s);\n",
              "      });\n",
              "    }\n",
              "\n",
              "    function showError(err) {\n",
              "      outputDiv.innerHTML = `<div class=\"error\" style=\"color:red;\">${err}</div>`;\n",
              "      throw err;\n",
              "    }\n",
              "\n",
              "    function displayChart(vegaEmbed) {\n",
              "      vegaEmbed(outputDiv, spec, embedOpt)\n",
              "        .catch(err => showError(`Javascript Error: ${err.message}<br>This usually means there's a typo in your chart specification. See the javascript console for the full traceback.`));\n",
              "    }\n",
              "\n",
              "    if(typeof define === \"function\" && define.amd) {\n",
              "      requirejs.config({paths});\n",
              "      require([\"vega-embed\"], displayChart, err => showError(`Error loading script: ${err.message}`));\n",
              "    } else if (typeof vegaEmbed === \"function\") {\n",
              "      displayChart(vegaEmbed);\n",
              "    } else {\n",
              "      loadScript(\"vega\")\n",
              "        .then(() => loadScript(\"vega-lite\"))\n",
              "        .then(() => loadScript(\"vega-embed\"))\n",
              "        .catch(showError)\n",
              "        .then(() => displayChart(vegaEmbed));\n",
              "    }\n",
              "  })({\"config\": {\"view\": {\"continuousWidth\": 400, \"continuousHeight\": 300}}, \"data\": {\"name\": \"data-99e2a3d5ce61b83f2e19e123c3bb530e\"}, \"mark\": \"bar\", \"encoding\": {\"tooltip\": [{\"type\": \"nominal\", \"field\": \"index\"}, {\"type\": \"quantitative\", \"field\": \"count\"}], \"x\": {\"type\": \"quantitative\", \"field\": \"count\"}, \"y\": {\"type\": \"nominal\", \"field\": \"index\", \"sort\": \"x\"}}, \"height\": 900, \"selection\": {\"selector001\": {\"type\": \"interval\", \"bind\": \"scales\", \"encodings\": [\"x\", \"y\"]}}, \"$schema\": \"https://vega.github.io/schema/vega-lite/v4.8.1.json\", \"datasets\": {\"data-99e2a3d5ce61b83f2e19e123c3bb530e\": [{\"index\": \"Bayes\", \"count\": 35}, {\"index\": \"Laplace\", \"count\": 16}, {\"index\": \"Bayes' Theorem\", \"count\": 7}, {\"index\": \"Bayesian\", \"count\": 6}, {\"index\": \"NBC\", \"count\": 6}, {\"index\": \"Bayesianism\", \"count\": 5}, {\"index\": \"Bayes'\", \"count\": 5}, {\"index\": \"Cornfield\", \"count\": 4}, {\"index\": \"NASA\", \"count\": 2}, {\"index\": \"Saturn\", \"count\": 2}]}}, {\"mode\": \"vega-lite\"});\n",
              "</script>"
            ],
            "text/plain": [
              "alt.Chart(...)"
            ]
          },
          "metadata": {
            "tags": []
          },
          "execution_count": 10
        }
      ]
    },
    {
      "cell_type": "code",
      "metadata": {
        "id": "X9kos6gY3xIg"
      },
      "source": [
        "\n"
      ],
      "execution_count": null,
      "outputs": []
    },
    {
      "cell_type": "code",
      "metadata": {
        "id": "dlvNiOJ2b5dU"
      },
      "source": [
        ""
      ],
      "execution_count": null,
      "outputs": []
    },
    {
      "cell_type": "code",
      "metadata": {
        "id": "hOD0EF7hcUY9"
      },
      "source": [
        "#graph it ALL\n",
        "bars = alt.Chart(text_df).mark_bar().encode(\n",
        "    x='count(ent):Q',\n",
        "    y=alt.Y('text:N', sort='x'),\n",
        "    tooltip=('ent:N', 'count(ent):Q')\n",
        ").interactive()\n",
        "\n",
        "\n",
        "text = bars.mark_text(\n",
        "    align='left',\n",
        "    baseline='middle',\n",
        "    dx=3  # Nudges text to right so it doesn't appear on top of the bar\n",
        ").encode(\n",
        "    text='ent:Q'\n",
        ")\n",
        "\n",
        "bars.properties(height=900)"
      ],
      "execution_count": null,
      "outputs": []
    }
  ]
}